{
 "cells": [
  {
   "cell_type": "code",
   "execution_count": 2,
   "metadata": {},
   "outputs": [
    {
     "name": "stdout",
     "output_type": "stream",
     "text": [
      "384.4323034267851\n",
      "399.328855150923\n",
      "6196.16416106187\n"
     ]
    }
   ],
   "source": [
    "#Rieman\n",
    "import numpy  as np \n",
    "def f(x):\n",
    "    return 4 * x ** 4 + 2 * x ** 3 - 6 * x\n",
    "a = -3\n",
    "b = 3\n",
    "n = 30\n",
    "\n",
    "width = (b - a)/(n - 1)\n",
    "\n",
    "x = np.linspace(a, b, n)\n",
    "\n",
    "y = f(x)\n",
    "\n",
    "leftRieman = width * sum (y[:n - 1])\n",
    "print(leftRieman)\n",
    "\n",
    "rightRieman = width * sum(y[1:])\n",
    "print(rightRieman)\n",
    "\n",
    "x_mid = (x[:n - 1] + x [1:])\n",
    "y_mid = f(x_mid)\n",
    "\n",
    "midRieman = width * sum(y_mid)\n",
    "print(midRieman)\n"
   ]
  },
  {
   "cell_type": "code",
   "execution_count": 11,
   "metadata": {},
   "outputs": [
    {
     "name": "stdout",
     "output_type": "stream",
     "text": [
      "21.583893023276122\n"
     ]
    }
   ],
   "source": [
    "import numpy as np\n",
    "\n",
    "def f(x):\n",
    "    return np.sin(x)**2 + np.sin(x) + 2\n",
    "\n",
    "a = -np.pi\n",
    "b = 2 * np.pi\n",
    "n = 27\n",
    "\n",
    "width = (b - a) / (n - 1)\n",
    "x = np.linspace(a, b, n)\n",
    "y = f(x)\n",
    "\n",
    "trapezoid = (width / 2) * (y[0] + y[n - 1] + 2 * np.sum(y[1:n - 1]))\n",
    "\n",
    "print(trapezoid)\n"
   ]
  },
  {
   "cell_type": "code",
   "execution_count": 3,
   "metadata": {},
   "outputs": [],
   "source": [
    "import numpy as np\n",
    "Xs = [\n",
    "    [\n",
    "        [4, 2, -1], \n",
    "        [1, -5, 2],\n",
    "        [2, -1, 4]\n",
    "    ],\n",
    "    [\n",
    "        [3, 4, 5],\n",
    "        [-3, 7, -4],\n",
    "        [1, -4, -2]\n",
    "    ], \n",
    "    [\n",
    "        [9, -2, 3, 2],\n",
    "        [2, 8, -2, 3],\n",
    "        [-3, 2, 11, -4],\n",
    "        [-2, 3, 2, 10]\n",
    "    ]\n",
    "]\n",
    "\n",
    "Ys = [\n",
    "    [41, -10, 1], \n",
    "    [34, -32, 62], \n",
    "    [55, -14, 12, -21]\n",
    "]\n",
    "\n",
    "def gauss_seode(x, y, epsilon = 0.022, t = 15):\n",
    "    x = np.array(x)\n",
    "    y = np.array(y)\n",
    "    \n",
    "    diags = np.diag(np.abs(X))\n",
    "    print(diags)\n",
    "    np.fill_diagonal(x, 0)\n",
    "    off_diags = np.sum(np.abs(x), axis = 1)\n",
    "    if not np.all(diags >off_diags):\n",
    "        print(\"Not diagnonnaly Domninant\")\n",
    "        return\n",
    "    x = -x\n",
    "    \n",
    "    mat_old = np.zeros(x[0].shape)\n",
    "    \n",
    "    for j in range (t):\n",
    "        mat_new = np.array(mat_old)\n",
    "        for k, row in enumerate(x):\n",
    "            mat_new[k] = (y[k] + np.dot(row, mat_new)) / diags[k]\n",
    "        print(\"dx = {dx}\")\n",
    "        \n",
    "        if dx < epsilon:\n",
    "            print(\"Converged at iteration {j}\")\n",
    "            return\n",
    "        \n",
    "        mat_old = mat_new\n",
    "    print(\"Not Cover\");\n",
    "    \n",
    "    for(X,Y) in zip (Xs, Ys):\n",
    "        print(\"X = {X}\")\n",
    "        print(\"Y = {Y}\")\n",
    "        gauss_seode(X,Y)\n"
   ]
  }
 ],
 "metadata": {
  "kernelspec": {
   "display_name": "Python 3",
   "language": "python",
   "name": "python3"
  },
  "language_info": {
   "codemirror_mode": {
    "name": "ipython",
    "version": 3
   },
   "file_extension": ".py",
   "mimetype": "text/x-python",
   "name": "python",
   "nbconvert_exporter": "python",
   "pygments_lexer": "ipython3",
   "version": "3.7.0"
  },
  "orig_nbformat": 4
 },
 "nbformat": 4,
 "nbformat_minor": 2
}

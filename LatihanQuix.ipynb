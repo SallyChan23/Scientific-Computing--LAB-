{
 "cells": [
  {
   "cell_type": "code",
   "execution_count": 2,
   "metadata": {},
   "outputs": [
    {
     "name": "stdout",
     "output_type": "stream",
     "text": [
      "384.4323034267851\n",
      "399.328855150923\n",
      "6196.16416106187\n"
     ]
    }
   ],
   "source": [
    "#Rieman\n",
    "import numpy  as np \n",
    "def f(x):\n",
    "    return 4 * x ** 4 + 2 * x ** 3 - 6 * x\n",
    "a = -3\n",
    "b = 3\n",
    "n = 30\n",
    "\n",
    "width = (b - a)/(n - 1)\n",
    "\n",
    "x = np.linspace(a, b, n)\n",
    "\n",
    "y = f(x)\n",
    "\n",
    "leftRieman = width * sum (y[:n - 1])\n",
    "print(leftRieman)\n",
    "\n",
    "rightRieman = width * sum(y[1:])\n",
    "print(rightRieman)\n",
    "\n",
    "x_mid = (x[:n - 1] + x [1:])\n",
    "y_mid = f(x_mid)\n",
    "\n",
    "midRieman = width * sum(y_mid)\n",
    "print(midRieman)\n"
   ]
  },
  {
   "cell_type": "code",
   "execution_count": 11,
   "metadata": {},
   "outputs": [
    {
     "name": "stdout",
     "output_type": "stream",
     "text": [
      "21.583893023276122\n"
     ]
    }
   ],
   "source": [
    "import numpy as np\n",
    "\n",
    "def f(x):\n",
    "    return np.sin(x)**2 + np.sin(x) + 2\n",
    "\n",
    "a = -np.pi\n",
    "b = 2 * np.pi\n",
    "n = 27\n",
    "\n",
    "width = (b - a) / (n - 1)\n",
    "x = np.linspace(a, b, n)\n",
    "y = f(x)\n",
    "\n",
    "trapezoid = (width / 2) * (y[0] + y[n - 1] + 2 * np.sum(y[1:n - 1]))\n",
    "\n",
    "print(trapezoid)\n"
   ]
  },
  {
   "cell_type": "code",
   "execution_count": null,
   "metadata": {},
   "outputs": [],
   "source": [
    "import numpy as np\n",
    "def f(x):\n",
    "    return x**6 + 2 * x ** 2 - 3\n",
    "\n",
    "def newton_raphson(x, tolerance):\n",
    "    x1 = x - f(x)\n",
    "    \n",
    "    if(np.abs(f(x1)) < tolerance):\n",
    "        print(\"Root: \", x1)\n",
    "        return\n",
    "    newton_raphson(x1, tolerance)\n",
    "newton_raphson(4,0.01)\n"
   ]
  },
  {
   "cell_type": "code",
   "execution_count": null,
   "metadata": {},
   "outputs": [],
   "source": []
  }
 ],
 "metadata": {
  "kernelspec": {
   "display_name": "Python 3",
   "language": "python",
   "name": "python3"
  },
  "language_info": {
   "codemirror_mode": {
    "name": "ipython",
    "version": 3
   },
   "file_extension": ".py",
   "mimetype": "text/x-python",
   "name": "python",
   "nbconvert_exporter": "python",
   "pygments_lexer": "ipython3",
   "version": "3.10.7"
  },
  "orig_nbformat": 4
 },
 "nbformat": 4,
 "nbformat_minor": 2
}

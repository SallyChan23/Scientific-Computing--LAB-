{
 "cells": [
  {
   "cell_type": "code",
   "execution_count": null,
   "metadata": {},
   "outputs": [],
   "source": [
    "import matplotlib.pyplot as plt\n",
    "import numpy as np  \n"
   ]
  },
  {
   "cell_type": "code",
   "execution_count": 1,
   "metadata": {},
   "outputs": [
    {
     "ename": "TypeError",
     "evalue": "dot() missing 2 required positional arguments: 'a' and 'b'",
     "output_type": "error",
     "traceback": [
      "\u001b[0;31m---------------------------------------------------------------------------\u001b[0m",
      "\u001b[0;31mTypeError\u001b[0m                                 Traceback (most recent call last)",
      "Cell \u001b[0;32mIn[1], line 22\u001b[0m\n\u001b[1;32m     15\u001b[0m y \u001b[39m=\u001b[39m y[:, np\u001b[39m.\u001b[39mnewaxis]\n\u001b[1;32m     16\u001b[0m \u001b[39m#print(y)\u001b[39;00m\n\u001b[1;32m     17\u001b[0m \n\u001b[1;32m     18\u001b[0m \u001b[39m#alpha = np.dot(np.dot(np.linalg.inv(np.dot(A.T, A)), A.T), y) -> versi cara panjang\u001b[39;00m\n\u001b[1;32m     19\u001b[0m \u001b[39m#print(alpha)\u001b[39;00m\n\u001b[1;32m     20\u001b[0m \n\u001b[1;32m     21\u001b[0m \u001b[39m#psuedo inverse\u001b[39;00m\n\u001b[0;32m---> 22\u001b[0m alpha \u001b[39m=\u001b[39m np\u001b[39m.\u001b[39;49mdot()\n\u001b[1;32m     23\u001b[0m alpha \u001b[39m=\u001b[39m np\u001b[39m.\u001b[39mdot(np\u001b[39m.\u001b[39mlinalg\u001b[39m.\u001b[39mpinv(A))\n\u001b[1;32m     24\u001b[0m alpha \u001b[39m=\u001b[39m np\u001b[39m.\u001b[39mdot(alpha,y)\n",
      "File \u001b[0;32m<__array_function__ internals>:4\u001b[0m, in \u001b[0;36mdot\u001b[0;34m(*args, **kwargs)\u001b[0m\n",
      "\u001b[0;31mTypeError\u001b[0m: dot() missing 2 required positional arguments: 'a' and 'b'"
     ]
    }
   ],
   "source": [
    "import numpy as np\n",
    "x = [1, 2, 3, 4, 5, 6, 7, 8]\n",
    "y = [2, 5, 1, 7, 9, 3, 6, 10]\n",
    "\n",
    "x = np.array(x)\n",
    "y = np.array(y)\n",
    "\n",
    "#buat matriks a\n",
    "A = np.vstack([x, np.ones(len(x))])\n",
    "#print(A)\n",
    "\n",
    "A = A.T\n",
    "#print(A)\n",
    "\n",
    "y = y[:, np.newaxis]\n",
    "#print(y)\n",
    "\n",
    "#alpha = np.dot(np.dot(np.linalg.inv(np.dot(A.T, A)), A.T), y) -> versi cara panjang\n",
    "#print(alpha)\n",
    "\n",
    "#psuedo inverse\n",
    "alpha = np.dot()\n",
    "alpha = np.dot(np.linalg.pinv(A))\n",
    "alpha = np.dot(alpha,y)\n",
    "\n",
    "print(f'm = {alpha[0]} b = {alpha[1]}')\n",
    "plt.title('LSR Python')\n",
    "plt.xlabel('Koordinat X')\n",
    "plt.ylabel('Koordinat Y')\n",
    "plt.plot(x, y, 'ro')\n",
    "plt.plot(x, alpha[0] * x + alpha[1], 'b')\n",
    "plt.show"
   ]
  }
 ],
 "metadata": {
  "kernelspec": {
   "display_name": "Python 3",
   "language": "python",
   "name": "python3"
  },
  "language_info": {
   "codemirror_mode": {
    "name": "ipython",
    "version": 3
   },
   "file_extension": ".py",
   "mimetype": "text/x-python",
   "name": "python",
   "nbconvert_exporter": "python",
   "pygments_lexer": "ipython3",
   "version": "3.10.7"
  },
  "orig_nbformat": 4
 },
 "nbformat": 4,
 "nbformat_minor": 2
}

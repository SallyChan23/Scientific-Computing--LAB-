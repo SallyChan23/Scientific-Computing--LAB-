{
 "cells": [
  {
   "cell_type": "code",
   "execution_count": 1,
   "metadata": {},
   "outputs": [
    {
     "name": "stdout",
     "output_type": "stream",
     "text": [
      "58.27081249479167\n",
      "58.39587502605731\n",
      "Mid Rieman : 308.3333124791511\n"
     ]
    }
   ],
   "source": [
    "import numpy as np\n",
    "def f(x):\n",
    "    return 2 * x ** 2 - 5\n",
    "\n",
    "#Rieman\n",
    "a = 0\n",
    "b = 5\n",
    "n = 2000\n",
    "\n",
    "width = (b - a) / (n - 1)\n",
    "\n",
    "x = np.linspace(a, b, n)\n",
    "#print(x)\n",
    "\n",
    "y = f(x)\n",
    "\n",
    "leftRieman = width * sum (y[: n - 1])\n",
    "print(leftRieman)\n",
    "\n",
    "rightRieman = width * sum(y[1:])\n",
    "print(rightRieman)\n",
    "\n",
    "x_mid = (x[:n - 1] + x[1:])\n",
    "y_mid = f(x_mid)\n",
    "\n",
    "midRieman = width * sum(y_mid)\n",
    "print(f'Mid Rieman : {midRieman}')\n",
    "\n",
    "#trapezoid\n",
    "#1/2 * (a + b) * t\n",
    "\n",
    "#t -> width \n",
    "# (a + b) -> jumlah 2 koordinatnya\n",
    "\n",
    "trapezoid = width/2 * (y[0] + y[n - 1] + sum(y[1:n - 1]))\n",
    "\n",
    "\n"
   ]
  }
 ],
 "metadata": {
  "kernelspec": {
   "display_name": "Python 3",
   "language": "python",
   "name": "python3"
  },
  "language_info": {
   "codemirror_mode": {
    "name": "ipython",
    "version": 3
   },
   "file_extension": ".py",
   "mimetype": "text/x-python",
   "name": "python",
   "nbconvert_exporter": "python",
   "pygments_lexer": "ipython3",
   "version": "3.10.7"
  },
  "orig_nbformat": 4
 },
 "nbformat": 4,
 "nbformat_minor": 2
}

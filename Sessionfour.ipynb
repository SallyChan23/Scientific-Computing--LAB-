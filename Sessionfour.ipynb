{
 "cells": [
  {
   "cell_type": "code",
   "execution_count": 4,
   "metadata": {},
   "outputs": [
    {
     "name": "stdout",
     "output_type": "stream",
     "text": [
      "Invalid Coordinate\n",
      "Root is at:  -1.7312500000000002\n",
      "Root is at:  1.734375\n"
     ]
    }
   ],
   "source": [
    "import numpy as np\n",
    "\n",
    "def f(x):\n",
    "    return x**2 - 3\n",
    "\n",
    "def bisection(a, b, tolerance):\n",
    "    #cek apakah f(a) dan f(b sama-sama positif atau negatif\n",
    "    if(np.sign(f(a))) == np.sign(f(b)):\n",
    "        print(\"Invalid Coordinate\")\n",
    "        return\n",
    "    #mencari mid value\n",
    "    c = (a + b) / 2\n",
    "\n",
    "    #cek apakah si f(c) < tolerance\n",
    "    if(np.abs(f(c)) < tolerance):\n",
    "        print(\"Root is at: \", c)\n",
    "        return\n",
    "    #cek apakah f(c) sama-sama positif atau negatif   \n",
    "    elif(np.sign(f(c)) == np.sign(f(a))):\n",
    "        bisection(c, b, tolerance)\n",
    "    #kondisi ketika f(c) dan f(b) sama2 +/-\n",
    "    elif(np.sign(f(c)) == np.sign(f(b))):\n",
    "        bisection(a, c, tolerance)  \n",
    "\n",
    "\n",
    "bisection(-2.3, -2.1, 0.01)\n",
    "bisection(-2.3, -1.5, 0.01)\n",
    "bisection(1, 2, 0.01)\n",
    "\n"
   ]
  },
  {
   "cell_type": "code",
   "execution_count": 6,
   "metadata": {},
   "outputs": [
    {
     "name": "stdout",
     "output_type": "stream",
     "text": [
      "Root is at:  0.4063058490188815\n"
     ]
    }
   ],
   "source": [
    "import numpy as np\n",
    "def f(x):\n",
    "    return 3*x**3 + 2*x - 1\n",
    "\n",
    "def g(x):\n",
    "    return 9*x**2 + 2\n",
    "\n",
    "def newton_raphson(x, tolerance):\n",
    "    #langsung cari rumus\n",
    "    x1 = x - (f(x) / g(x))\n",
    "\n",
    "    if(np.abs(f(x1)) < tolerance):\n",
    "        print(\"Root is at: \", x1)\n",
    "        return\n",
    "    newton_raphson(x1, tolerance)\n",
    "\n",
    "newton_raphson(100, 0.1)"
   ]
  }
 ],
 "metadata": {
  "kernelspec": {
   "display_name": "Python 3",
   "language": "python",
   "name": "python3"
  },
  "language_info": {
   "codemirror_mode": {
    "name": "ipython",
    "version": 3
   },
   "file_extension": ".py",
   "mimetype": "text/x-python",
   "name": "python",
   "nbconvert_exporter": "python",
   "pygments_lexer": "ipython3",
   "version": "3.11.2"
  },
  "orig_nbformat": 4
 },
 "nbformat": 4,
 "nbformat_minor": 2
}

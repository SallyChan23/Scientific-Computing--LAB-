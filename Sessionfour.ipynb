{
 "cells": [
  {
   "cell_type": "code",
   "execution_count": 2,
   "metadata": {},
   "outputs": [
    {
     "ename": "ModuleNotFoundError",
     "evalue": "No module named 'numpy'",
     "output_type": "error",
     "traceback": [
      "\u001b[0;31m---------------------------------------------------------------------------\u001b[0m",
      "\u001b[0;31mModuleNotFoundError\u001b[0m                       Traceback (most recent call last)",
      "Cell \u001b[0;32mIn[2], line 1\u001b[0m\n\u001b[0;32m----> 1\u001b[0m \u001b[39mimport\u001b[39;00m \u001b[39mnumpy\u001b[39;00m \u001b[39mas\u001b[39;00m \u001b[39mnp\u001b[39;00m\n\u001b[1;32m      3\u001b[0m \u001b[39mdef\u001b[39;00m \u001b[39mf\u001b[39m(x):\n\u001b[1;32m      4\u001b[0m     \u001b[39mreturn\u001b[39;00m x\u001b[39m*\u001b[39m\u001b[39m*\u001b[39m\u001b[39m2\u001b[39m \u001b[39m-\u001b[39m \u001b[39m3\u001b[39m\n",
      "\u001b[0;31mModuleNotFoundError\u001b[0m: No module named 'numpy'"
     ]
    }
   ],
   "source": [
    "import numpy as np\n",
    "\n",
    "def f(x):\n",
    "    return x**2 - 3\n",
    "\n",
    "def bisection(a, b, tolerance):\n",
    "    #cek apakah f(a) dan f(b sama-sama positif atau negatif\n",
    "    if(np.sign(f(a))) == np.sign(f(b)):\n",
    "        print(\"Invalid Coordinate\")\n",
    "        return\n",
    "    #mencari mid value\n",
    "    c = (a + b) / 2\n",
    "\n",
    "    #cek apakah si f(c) < tolerance\n",
    "    if(np.abs(f(c)) < tolerance):\n",
    "        print(\"Root is at: \", c)\n",
    "        return\n",
    "    #cek apakah f(c) sama-sama positif atau negatif   \n",
    "    elif(np.sign(f(c)) == np.sign(f(a))):\n",
    "        bisection(c, b, tolerance)\n",
    "    #kondisi ketika f(c) dan f(b) sama2 +/-\n",
    "    elif(np.sign(f(c)) == np.sign(f(b))):\n",
    "        bisection(a, c, tolerance)  \n",
    "\n",
    "\n",
    "bisection(-2.3, -2.1, 0.01)\n",
    "bisection(-2.3, -1.5, 0.01)\n",
    "bisection(1, 2, 0.01)\n",
    "\n"
   ]
  },
  {
   "cell_type": "code",
   "execution_count": 2,
   "metadata": {},
   "outputs": [
    {
     "ename": "ModuleNotFoundError",
     "evalue": "No module named 'numpy'",
     "output_type": "error",
     "traceback": [
      "\u001b[0;31m---------------------------------------------------------------------------\u001b[0m",
      "\u001b[0;31mModuleNotFoundError\u001b[0m                       Traceback (most recent call last)",
      "Cell \u001b[0;32mIn[2], line 1\u001b[0m\n\u001b[0;32m----> 1\u001b[0m \u001b[39mimport\u001b[39;00m \u001b[39mnumpy\u001b[39;00m \u001b[39mas\u001b[39;00m \u001b[39mnp\u001b[39;00m\n\u001b[1;32m      2\u001b[0m \u001b[39mdef\u001b[39;00m \u001b[39mf\u001b[39m(x):\n\u001b[1;32m      3\u001b[0m     \u001b[39mreturn\u001b[39;00m \u001b[39m3\u001b[39m\u001b[39m*\u001b[39mx\u001b[39m*\u001b[39m\u001b[39m*\u001b[39m\u001b[39m3\u001b[39m \u001b[39m+\u001b[39m \u001b[39m2\u001b[39m\u001b[39m*\u001b[39mx \u001b[39m-\u001b[39m \u001b[39m1\u001b[39m\n",
      "\u001b[0;31mModuleNotFoundError\u001b[0m: No module named 'numpy'"
     ]
    }
   ],
   "source": [
    "import numpy as np\n",
    "def f(x):\n",
    "    return 3*x**3 + 2*x - 1\n",
    "\n",
    "def g(x):\n",
    "    return 9*x**2 + 2\n",
    "\n",
    "def newton_raphson(x, tolerance):\n",
    "    #langsung cari rumus\n",
    "    x1 = x - (f(x) / g(x))\n",
    "\n",
    "    if(np.abs(f(x1)) < tolerance):\n",
    "        print(\"Root is at: \", x1)\n",
    "        return\n",
    "    newton_raphson(x1, tolerance)\n",
    "\n",
    "newton_raphson(100, 0.1)"
   ]
  }
 ],
 "metadata": {
  "kernelspec": {
   "display_name": "Python 3",
   "language": "python",
   "name": "python3"
  },
  "language_info": {
   "codemirror_mode": {
    "name": "ipython",
    "version": 3
   },
   "file_extension": ".py",
   "mimetype": "text/x-python",
   "name": "python",
   "nbconvert_exporter": "python",
   "pygments_lexer": "ipython3",
   "version": "3.11.2"
  },
  "orig_nbformat": 4
 },
 "nbformat": 4,
 "nbformat_minor": 2
}

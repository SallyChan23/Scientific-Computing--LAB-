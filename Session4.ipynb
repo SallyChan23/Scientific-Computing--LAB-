{
 "cells": [
  {
   "cell_type": "code",
   "execution_count": 1,
   "metadata": {},
   "outputs": [
    {
     "name": "stdout",
     "output_type": "stream",
     "text": [
      "Akar yang ditemukan: 2.0\n"
     ]
    }
   ],
   "source": [
    "#bisection method\n",
    "\n",
    "def f(x):\n",
    "    return x**2 - 4  # Misalnya, kita mencari akar dari fungsi f(x) = x^2 - 4\n",
    "\n",
    "def bisection(a, b, tol):\n",
    "    if f(a) * f(b) >= 0:\n",
    "        print(\"Interval [a, b] tidak valid!\")\n",
    "        return None\n",
    "\n",
    "    while abs(b - a) > tol:\n",
    "        c = (a + b) / 2\n",
    "        if f(c) == 0:\n",
    "            return c\n",
    "        elif f(c) * f(a) < 0:\n",
    "            b = c\n",
    "        else:\n",
    "            a = c\n",
    "\n",
    "    return (a + b) / 2\n",
    "\n",
    "# Contoh penggunaan\n",
    "a = 1.0  # Batas kiri interval\n",
    "b = 3.0  # Batas kanan interval\n",
    "tolerance = 1e-6  # Toleransi error\n",
    "\n",
    "root = bisection(a, b, tolerance)\n",
    "if root is not None:\n",
    "    print(\"Akar yang ditemukan:\", root)\n",
    "else:\n",
    "    print(\"Metode bisection gagal menemukan akar dalam interval yang diberikan.\")\n"
   ]
  }
 ],
 "metadata": {
  "kernelspec": {
   "display_name": "Python 3",
   "language": "python",
   "name": "python3"
  },
  "language_info": {
   "codemirror_mode": {
    "name": "ipython",
    "version": 3
   },
   "file_extension": ".py",
   "mimetype": "text/x-python",
   "name": "python",
   "nbconvert_exporter": "python",
   "pygments_lexer": "ipython3",
   "version": "3.10.7"
  },
  "orig_nbformat": 4
 },
 "nbformat": 4,
 "nbformat_minor": 2
}
